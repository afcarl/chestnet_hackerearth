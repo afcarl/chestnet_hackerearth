{
 "cells": [
  {
   "cell_type": "code",
   "execution_count": 1,
   "metadata": {},
   "outputs": [],
   "source": [
    "%matplotlib inline\n",
    "from chestnet_utils import *\n",
    "from imblearn.over_sampling import SMOTE\n",
    "%load_ext autoreload\n",
    "%autoreload 2"
   ]
  },
  {
   "cell_type": "code",
   "execution_count": 2,
   "metadata": {},
   "outputs": [],
   "source": [
    "class XRayDataset1(Dataset):\n",
    "    \n",
    "    def __init__(self, csv_file, path, transform = None,is_train=True, subset=700):\n",
    "        self.df = pd.read_csv(csv_file)\n",
    "        \n",
    "        self.path = path\n",
    "        self.transform = transform\n",
    "        self.is_train = is_train\n",
    "        \n",
    "        if is_train:\n",
    "            self.df['detected_id'] = self.df.detected.astype('category').cat.codes\n",
    "            self.idx_to_classes = dict(enumerate(self.df.detected.astype('category').cat.categories))\n",
    "            self.subset = subset\n",
    "            self.class_weights = compute_class_weight('balanced',np.arange(14),self.df.detected.astype('category').cat.codes)\n",
    "            indices = np.arange(len(self.df))\n",
    "            self.tr_idx,self.val_idx =  train_test_split(indices,test_size=0.2,random_state=42)\n",
    "            self.os_dt = oversample_data(self.df.loc[self.tr_idx],self.transform,self.subset,self.path)\n",
    "            self.sml_val_idx = np.random.choice(self.val_idx,size=int(self.subset * 0.2),replace=False)\n",
    "        \n",
    "    def __len__(self):\n",
    "        return len(self.df)\n",
    "        \n",
    "    def __getitem__(self,idx):\n",
    "        \n",
    "        if self.is_train:\n",
    "            img_path = os.path.join(self.path,'train_',self.df.loc[idx,'image_name'])\n",
    "        else:\n",
    "            img_path = os.path.join(self.path,'test_',self.df.loc[idx,'image_name'])\n",
    "        \n",
    "        img = cv2.imread(img_path,1)\n",
    "        if self.is_train:\n",
    "            label = self.df.loc[idx,'detected_id'] # detected id is cat converted to numbers\n",
    "            sample = {'image':img,\n",
    "                  'label':label\n",
    "                 }\n",
    "        else:\n",
    "            sample = {'image':img,\n",
    "                      'label':0\n",
    "                     }\n",
    "            \n",
    "        \n",
    "        if self.transform:\n",
    "            if self.is_train:\n",
    "                if idx in self.val_idx:\n",
    "                    sample['image'] = self.transform['test_aug'](sample['image'])\n",
    "                else:\n",
    "                    sample['image'] = self.transform['train_aug'](sample['image'])\n",
    "            else:\n",
    "                sample['image'] = self.transform['test_aug'](sample['image'])\n",
    "            \n",
    "        return sample "
   ]
  },
  {
   "cell_type": "code",
   "execution_count": 3,
   "metadata": {},
   "outputs": [
    {
     "data": {
      "text/html": [
       "<div>\n",
       "<style>\n",
       "    .dataframe thead tr:only-child th {\n",
       "        text-align: right;\n",
       "    }\n",
       "\n",
       "    .dataframe thead th {\n",
       "        text-align: left;\n",
       "    }\n",
       "\n",
       "    .dataframe tbody tr th {\n",
       "        vertical-align: top;\n",
       "    }\n",
       "</style>\n",
       "<table border=\"1\" class=\"dataframe\">\n",
       "  <thead>\n",
       "    <tr style=\"text-align: right;\">\n",
       "      <th></th>\n",
       "      <th>row_id</th>\n",
       "      <th>age</th>\n",
       "      <th>gender</th>\n",
       "      <th>view_position</th>\n",
       "      <th>image_name</th>\n",
       "      <th>detected</th>\n",
       "    </tr>\n",
       "  </thead>\n",
       "  <tbody>\n",
       "    <tr>\n",
       "      <th>0</th>\n",
       "      <td>id_0</td>\n",
       "      <td>45</td>\n",
       "      <td>M</td>\n",
       "      <td>0</td>\n",
       "      <td>scan_0000.png</td>\n",
       "      <td>class_3</td>\n",
       "    </tr>\n",
       "    <tr>\n",
       "      <th>1</th>\n",
       "      <td>id_1</td>\n",
       "      <td>57</td>\n",
       "      <td>F</td>\n",
       "      <td>0</td>\n",
       "      <td>scan_0001.png</td>\n",
       "      <td>class_3</td>\n",
       "    </tr>\n",
       "    <tr>\n",
       "      <th>2</th>\n",
       "      <td>id_10</td>\n",
       "      <td>58</td>\n",
       "      <td>M</td>\n",
       "      <td>0</td>\n",
       "      <td>scan_00010.png</td>\n",
       "      <td>class_3</td>\n",
       "    </tr>\n",
       "    <tr>\n",
       "      <th>3</th>\n",
       "      <td>id_1000</td>\n",
       "      <td>64</td>\n",
       "      <td>M</td>\n",
       "      <td>0</td>\n",
       "      <td>scan_0001000.png</td>\n",
       "      <td>class_6</td>\n",
       "    </tr>\n",
       "    <tr>\n",
       "      <th>4</th>\n",
       "      <td>id_10000</td>\n",
       "      <td>33</td>\n",
       "      <td>M</td>\n",
       "      <td>1</td>\n",
       "      <td>scan_00010000.png</td>\n",
       "      <td>class_3</td>\n",
       "    </tr>\n",
       "  </tbody>\n",
       "</table>\n",
       "</div>"
      ],
      "text/plain": [
       "     row_id  age gender  view_position         image_name detected\n",
       "0      id_0   45      M              0      scan_0000.png  class_3\n",
       "1      id_1   57      F              0      scan_0001.png  class_3\n",
       "2     id_10   58      M              0     scan_00010.png  class_3\n",
       "3   id_1000   64      M              0   scan_0001000.png  class_6\n",
       "4  id_10000   33      M              1  scan_00010000.png  class_3"
      ]
     },
     "execution_count": 3,
     "metadata": {},
     "output_type": "execute_result"
    }
   ],
   "source": [
    "labels_tr = pd.read_csv(f'{data_folder}train.csv')\n",
    "labels_tr.head()"
   ]
  },
  {
   "cell_type": "code",
   "execution_count": 4,
   "metadata": {},
   "outputs": [
    {
     "data": {
      "text/html": [
       "<div>\n",
       "<style>\n",
       "    .dataframe thead tr:only-child th {\n",
       "        text-align: right;\n",
       "    }\n",
       "\n",
       "    .dataframe thead th {\n",
       "        text-align: left;\n",
       "    }\n",
       "\n",
       "    .dataframe tbody tr th {\n",
       "        vertical-align: top;\n",
       "    }\n",
       "</style>\n",
       "<table border=\"1\" class=\"dataframe\">\n",
       "  <thead>\n",
       "    <tr style=\"text-align: right;\">\n",
       "      <th></th>\n",
       "      <th>row_id</th>\n",
       "      <th>age</th>\n",
       "      <th>gender</th>\n",
       "      <th>view_position</th>\n",
       "      <th>image_name</th>\n",
       "      <th>detected</th>\n",
       "    </tr>\n",
       "  </thead>\n",
       "  <tbody>\n",
       "    <tr>\n",
       "      <th>3</th>\n",
       "      <td>id_1000</td>\n",
       "      <td>64</td>\n",
       "      <td>M</td>\n",
       "      <td>0</td>\n",
       "      <td>scan_0001000.png</td>\n",
       "      <td>class_6</td>\n",
       "    </tr>\n",
       "    <tr>\n",
       "      <th>54</th>\n",
       "      <td>id_10074</td>\n",
       "      <td>38</td>\n",
       "      <td>F</td>\n",
       "      <td>0</td>\n",
       "      <td>scan_00010074.png</td>\n",
       "      <td>class_2</td>\n",
       "    </tr>\n",
       "    <tr>\n",
       "      <th>62</th>\n",
       "      <td>id_10082</td>\n",
       "      <td>48</td>\n",
       "      <td>M</td>\n",
       "      <td>1</td>\n",
       "      <td>scan_00010082.png</td>\n",
       "      <td>class_2</td>\n",
       "    </tr>\n",
       "    <tr>\n",
       "      <th>23</th>\n",
       "      <td>id_10032</td>\n",
       "      <td>52</td>\n",
       "      <td>F</td>\n",
       "      <td>0</td>\n",
       "      <td>scan_00010032.png</td>\n",
       "      <td>class_12</td>\n",
       "    </tr>\n",
       "    <tr>\n",
       "      <th>3</th>\n",
       "      <td>id_1000</td>\n",
       "      <td>64</td>\n",
       "      <td>M</td>\n",
       "      <td>0</td>\n",
       "      <td>scan_0001000.png</td>\n",
       "      <td>class_6</td>\n",
       "    </tr>\n",
       "  </tbody>\n",
       "</table>\n",
       "</div>"
      ],
      "text/plain": [
       "      row_id  age gender  view_position         image_name  detected\n",
       "3    id_1000   64      M              0   scan_0001000.png   class_6\n",
       "54  id_10074   38      F              0  scan_00010074.png   class_2\n",
       "62  id_10082   48      M              1  scan_00010082.png   class_2\n",
       "23  id_10032   52      F              0  scan_00010032.png  class_12\n",
       "3    id_1000   64      M              0   scan_0001000.png   class_6"
      ]
     },
     "execution_count": 4,
     "metadata": {},
     "output_type": "execute_result"
    }
   ],
   "source": [
    "labels_tr.loc[[3,54,62,23,3]]"
   ]
  },
  {
   "cell_type": "code",
   "execution_count": 8,
   "metadata": {},
   "outputs": [
    {
     "data": {
      "text/plain": [
       "<matplotlib.axes._subplots.AxesSubplot at 0x7f1810658278>"
      ]
     },
     "execution_count": 8,
     "metadata": {},
     "output_type": "execute_result"
    },
    {
     "data": {
      "image/png": "[encoded data removed]",
      "text/plain": [
       "<matplotlib.figure.Figure at 0x7f181063a0f0>"
      ]
     },
     "metadata": {},
     "output_type": "display_data"
    }
   ],
   "source": [
    "classes = pd.Series(['class_1','class_2', 'class_3', 'class_4', 'class_5', 'class_6','class_7', 'class_8', 'class_9', 'class_10', 'class_11', 'class_12', 'class_13','class_14',])\n",
    "labels_tr.groupby('detected').count().reset_index().plot(kind='bar', x='detected',y='image_name')"
   ]
  },
  {
   "cell_type": "code",
   "execution_count": 11,
   "metadata": {},
   "outputs": [],
   "source": []
  },
  {
   "cell_type": "code",
   "execution_count": 20,
   "metadata": {},
   "outputs": [
    {
     "data": {
      "text/plain": [
       "18577"
      ]
     },
     "execution_count": 20,
     "metadata": {},
     "output_type": "execute_result"
    }
   ],
   "source": [
    "id_to_img_name = dict(enumerate(labels_tr.image_name.astype('category').cat.categories))\n",
    "labels_tr['image_name_id'] = labels_tr.image_name.astype('category').cat.codes\n",
    "len(id_to_img_name)\n",
    "\n",
    "id_to_row_id = dict(enumerate(labels_tr.row_id.astype('category').cat.categories))\n",
    "labels_tr['row_id_num_id'] = labels_tr.row_id.astype('category').cat.codes\n",
    "len(id_to_row_id)\n",
    "\n",
    "id_to_gender = dict(enumerate(labels_tr.gender.astype('category').cat.categories))\n",
    "labels_tr['gender_id'] = labels_tr.gender.astype('category').cat.codes\n",
    "len(id_to_gender)\n",
    "\n",
    "id_to_detected = dict(enumerate(labels_tr.detected.astype('category').cat.categories))\n",
    "labels_tr['detected_id'] = labels_tr.detected.astype('category').cat.codes\n",
    "len(id_to_detected)"
   ]
  },
  {
   "cell_type": "code",
   "execution_count": 31,
   "metadata": {},
   "outputs": [
    {
     "data": {
      "text/plain": [
       "Index(['row_id', 'age', 'gender', 'view_position', 'image_name', 'detected',\n",
       "       'image_name_id', 'row_id_num_id', 'gender_id', 'detected_id'],\n",
       "      dtype='object')"
      ]
     },
     "execution_count": 31,
     "metadata": {},
     "output_type": "execute_result"
    }
   ],
   "source": [
    "labels_tr.head().columns"
   ]
  },
  {
   "cell_type": "code",
   "execution_count": 29,
   "metadata": {},
   "outputs": [
    {
     "name": "stderr",
     "output_type": "stream",
     "text": [
      "/home/ubuntu/src/anaconda3/envs/my_root/lib/python3.6/site-packages/sklearn/utils/deprecation.py:77: DeprecationWarning: Function _ratio_float is deprecated; Use a float for 'ratio' is deprecated from version 0.2. The support will be removed in 0.4. Use a dict, str, or a callable instead.\n",
      "  warnings.warn(msg, category=DeprecationWarning)\n"
     ]
    },
    {
     "name": "stdout",
     "output_type": "stream",
     "text": [
      "class_3     5728\n",
      "class_7     2529\n",
      "class_5     2373\n",
      "class_12    1623\n",
      "class_6     1316\n",
      "class_4     1283\n",
      "class_11     786\n",
      "class_13     676\n",
      "class_2      656\n",
      "class_14     535\n",
      "class_1      436\n",
      "class_8      377\n",
      "class_10     193\n",
      "class_9       66\n",
      "Name: detected, dtype: int64 [5728 5728 5728 5728 5728 5728 5728 5728 5728 5728 5728 5728 5728 5728]\n"
     ]
    }
   ],
   "source": [
    "sm = SMOTE(random_state=12, ratio = 1.0)\n",
    "x_res, y_res = sm.fit_sample(labels_tr.drop(['detected','row_id','image_name','gender','detected_id'],axis=1), labels_tr['detected_id'])\n",
    "print(labels_tr['detected'].value_counts(), np.bincount(y_res))"
   ]
  },
  {
   "cell_type": "code",
   "execution_count": 43,
   "metadata": {},
   "outputs": [],
   "source": [
    "smpled = pd.DataFrame(x_res,columns=(['age', 'view_position', 'image_name', 'row_id', 'gender']))"
   ]
  },
  {
   "cell_type": "code",
   "execution_count": 45,
   "metadata": {},
   "outputs": [],
   "source": [
    "smpled['detected'] = pd.Series(y_res)"
   ]
  },
  {
   "cell_type": "code",
   "execution_count": null,
   "metadata": {},
   "outputs": [],
   "source": [
    "new = smpled.replace({'detected':id_to_detected,'gender':id_to_gender,'image_name':id_to_img_name,'row_id':id_to_row_id})\n",
    "new.gender.unique()"
   ]
  },
  {
   "cell_type": "code",
   "execution_count": 3,
   "metadata": {},
   "outputs": [],
   "source": [
    "class oversample_data(Dataset):\n",
    "    \n",
    "    def __init__(self,labels_tr,transform,subset,path):\n",
    "        self.labels_tr = labels_tr\n",
    "        self.transform = transform\n",
    "        self.path = path\n",
    "        self.subset = subset\n",
    "        \n",
    "        self.id_to_img_name = dict(enumerate(self.labels_tr.image_name.astype('category').cat.categories))\n",
    "        self.labels_tr['image_name_id'] = self.labels_tr.image_name.astype('category').cat.codes\n",
    "\n",
    "        self.id_to_row_id = dict(enumerate(self.labels_tr.row_id.astype('category').cat.categories))\n",
    "        self.labels_tr['row_id_num_id'] = self.labels_tr.row_id.astype('category').cat.codes\n",
    "\n",
    "        self.id_to_gender = dict(enumerate(self.labels_tr.gender.astype('category').cat.categories))\n",
    "        self.labels_tr['gender_id'] = self.labels_tr.gender.astype('category').cat.codes\n",
    "\n",
    "        self.id_to_detected = dict(enumerate(self.labels_tr.detected.astype('category').cat.categories))\n",
    "        self.labels_tr['detected_id'] = self.labels_tr.detected.astype('category').cat.codes\n",
    "\n",
    "        sm = SMOTE(random_state=12, ratio = 1.0)\n",
    "        x_res, y_res = sm.fit_sample(labels_tr.drop(['detected','row_id','image_name','gender','detected_id'],axis=1), self.labels_tr['detected_id'])\n",
    "        \n",
    "        self.labels_tr = pd.DataFrame(x_res,columns=(['age', 'view_position', 'image_name', 'row_id', 'gender']))\n",
    "        self.labels_tr['detected_id'] = pd.Series(y_res)\n",
    "        \n",
    "        self.sml_tr_idx = np.random.choice(len(self.labels_tr),size=self.subset,replace=False)\n",
    "        \n",
    "    def __len__(self):\n",
    "        return(len(self.labels_tr))\n",
    "        \n",
    "    def __getitem__(self,idx):\n",
    "        img_path = os.path.join(self.path,'train_',self.id_to_img_name[int(self.labels_tr.loc[idx,'image_name'])])\n",
    "        img = cv2.imread(img_path,1)\n",
    "        label = self.labels_tr.loc[idx,'detected_id'] # detected id is cat converted to numbers\n",
    "        sample = {'image':img,\n",
    "                  'label':label\n",
    "                 }\n",
    "        \n",
    "        if self.transform:\n",
    "            sample['image'] = self.transform['train_aug'](sample['image'])\n",
    "        \n",
    "        return sample  \n",
    "        \n",
    "        \n",
    "\n"
   ]
  },
  {
   "cell_type": "code",
   "execution_count": 103,
   "metadata": {},
   "outputs": [],
   "source": [
    "def get_dataloaders(dataset,bs,num_workers,use_gpu,fr):\n",
    "    mini = int(len(dataset.os_dt) * fr)\n",
    "    temp = np.random.choice(len(dataset.os_dt), size=mini, replace=False)\n",
    "    train_sampler = sampler.SubsetRandomSampler(temp)\n",
    "    val_sampler = sampler.SubsetRandomSampler(dataset.val_idx)\n",
    "    small_train_sampler = sampler.SubsetRandomSampler(dataset.os_dt.sml_tr_idx)\n",
    "    small_val_sampler = sampler.SubsetRandomSampler(dataset.sml_val_idx)\n",
    "\n",
    "    samplers = {\n",
    "        'train':train_sampler,\n",
    "        'val': val_sampler,\n",
    "        'sml_tr':small_train_sampler,\n",
    "        'sml_val':small_val_sampler\n",
    "    }\n",
    "    \n",
    "    which_dt = {\n",
    "        'train':dataset.os_dt,\n",
    "        'val': dataset,\n",
    "        'sml_tr':dataset.os_dt,\n",
    "        'sml_val':dataset\n",
    "    }\n",
    "\n",
    "    dataloaders = {k : DataLoader(which_dt[k],\n",
    "                            batch_size=bs,\n",
    "                            sampler=v,\n",
    "                            num_workers=num_workers,\n",
    "                            pin_memory=use_gpu\n",
    "                           ) for k,v in samplers.items()}\n",
    "\n",
    "    \n",
    "    return samplers, dataloaders"
   ]
  },
  {
   "cell_type": "code",
   "execution_count": 104,
   "metadata": {},
   "outputs": [],
   "source": [
    "def get_dt_szs(samplers):\n",
    "    dataset_sizes = {k : len(v) for k,v in samplers.items()}\n",
    "    return dataset_sizes"
   ]
  },
  {
   "cell_type": "code",
   "execution_count": 105,
   "metadata": {},
   "outputs": [],
   "source": [
    "model_ft = models.resnet34(pretrained=True)\n",
    "for i,param in enumerate(model_ft.parameters()):\n",
    "    if i ==  10:\n",
    "        break\n",
    "    param.requires_grad = False\n",
    "model_ft.conv1.kernel_size = (3,3)\n",
    "model_ft.avgpool = nn.AdaptiveAvgPool2d(1)\n",
    "model_ft.fc = nn.Sequential(nn.Dropout(0.7,True),nn.Linear(512, 14)) #after avgpool the size comes out to be features 2048\n",
    "\n",
    "if use_gpu:\n",
    "    model_ft = model_ft.cuda()"
   ]
  },
  {
   "cell_type": "code",
   "execution_count": 114,
   "metadata": {},
   "outputs": [
    {
     "name": "stderr",
     "output_type": "stream",
     "text": [
      "/home/ubuntu/src/anaconda3/envs/my_root/lib/python3.6/site-packages/sklearn/utils/deprecation.py:77: DeprecationWarning: Function _ratio_float is deprecated; Use a float for 'ratio' is deprecated from version 0.2. The support will be removed in 0.4. Use a dict, str, or a callable instead.\n",
      "  warnings.warn(msg, category=DeprecationWarning)\n"
     ]
    }
   ],
   "source": [
    "tfms = get_tfms(100)\n",
    "\n",
    "transformed_dataset = XRayDataset1(f'{data_folder}train.csv',f'{data_folder}',transform=tfms)\n",
    "\n",
    "use_gpu, num_workers = get_pm_for_dl()\n",
    "\n",
    "samplers, dataloaders = get_dataloaders(transformed_dataset,32,num_workers,use_gpu,0.1)\n",
    "dataset_sizes = get_dt_szs(samplers)"
   ]
  },
  {
   "cell_type": "code",
   "execution_count": 115,
   "metadata": {},
   "outputs": [
    {
     "data": {
      "text/plain": [
       "{'sml_tr': 700, 'sml_val': 140, 'train': 6468, 'val': 3716}"
      ]
     },
     "execution_count": 115,
     "metadata": {},
     "output_type": "execute_result"
    }
   ],
   "source": [
    "dataset_sizes"
   ]
  },
  {
   "cell_type": "code",
   "execution_count": null,
   "metadata": {},
   "outputs": [
    {
     "name": "stdout",
     "output_type": "stream",
     "text": [
      "Epoch 0/2\n",
      "----------\n",
      "if train\n",
      "train Loss: 0.0855 Acc: 0.0696\n",
      "else sml_val\n",
      "sml_val Loss: 0.0957 Acc: 0.0500\n",
      "setting best\n",
      "Epoch 1/2\n",
      "----------\n",
      "if train\n"
     ]
    }
   ],
   "source": [
    "criterion = nn.CrossEntropyLoss()\n",
    "optimizer_ft = optim.Adam(filter(lambda p: p.requires_grad, model_ft.parameters()), lr=1e-4)\n",
    "exp_lr_scheduler = optim.lr_scheduler.ExponentialLR(optimizer_ft, gamma=0.7)\n",
    "model_ft,b_acc,wts = train_model(model_ft, criterion, optimizer_ft, None,dataloaders,dataset_sizes,3,data_split=['train','sml_val'],save_model=True,name='_rn50_os_dt_')"
   ]
  },
  {
   "cell_type": "code",
   "execution_count": 111,
   "metadata": {},
   "outputs": [
    {
     "name": "stdout",
     "output_type": "stream",
     "text": [
      "sml_val\n",
      "sml_val Loss: 0.0378 Acc: 0.0357\n"
     ]
    }
   ],
   "source": [
    "pdted,lbs = predict(model_ft,'sml_val',dataloaders,dataset_sizes,criterion)"
   ]
  },
  {
   "cell_type": "code",
   "execution_count": 112,
   "metadata": {},
   "outputs": [
    {
     "data": {
      "text/plain": [
       "array([14, 67,  1,  9,  0,  2,  4,  0, 18,  0,  2,  7,  8,  8])"
      ]
     },
     "execution_count": 112,
     "metadata": {},
     "output_type": "execute_result"
    }
   ],
   "source": [
    "np.bincount(pdted)"
   ]
  },
  {
   "cell_type": "code",
   "execution_count": 113,
   "metadata": {},
   "outputs": [
    {
     "data": {
      "text/plain": [
       "array([ 3,  2,  4, 14,  3,  3,  6, 37,  9, 19, 14, 22,  2,  2])"
      ]
     },
     "execution_count": 113,
     "metadata": {},
     "output_type": "execute_result"
    }
   ],
   "source": [
    "np.bincount(lbs)"
   ]
  },
  {
   "cell_type": "code",
   "execution_count": null,
   "metadata": {},
   "outputs": [],
   "source": []
  }
 ],
 "metadata": {
  "kernelspec": {
   "display_name": "Environment (conda_my_root)",
   "language": "python",
   "name": "conda_my_root"
  },
  "language_info": {
   "codemirror_mode": {
    "name": "ipython",
    "version": 3
   },
   "file_extension": ".py",
   "mimetype": "text/x-python",
   "name": "python",
   "nbconvert_exporter": "python",
   "pygments_lexer": "ipython3",
   "version": "3.6.3"
  }
 },
 "nbformat": 4,
 "nbformat_minor": 2
}
